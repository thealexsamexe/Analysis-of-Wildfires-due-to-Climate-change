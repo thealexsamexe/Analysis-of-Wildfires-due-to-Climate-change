{
 "cells": [
  {
   "cell_type": "markdown",
   "metadata": {},
   "source": [
    "### Importing the Pandas library"
   ]
  },
  {
   "cell_type": "code",
   "execution_count": 1,
   "metadata": {},
   "outputs": [],
   "source": [
    "import pandas as pd\n",
    "import seaborn as sns\n",
    "import matplotlib.pyplot as plt\n",
    "import numpy as np"
   ]
  },
  {
   "cell_type": "markdown",
   "metadata": {},
   "source": [
    "### Reading the Global Mean Temperature dataset's csv file"
   ]
  },
  {
   "cell_type": "code",
   "execution_count": 2,
   "metadata": {},
   "outputs": [
    {
     "data": {
      "text/html": [
       "<div>\n",
       "<style scoped>\n",
       "    .dataframe tbody tr th:only-of-type {\n",
       "        vertical-align: middle;\n",
       "    }\n",
       "\n",
       "    .dataframe tbody tr th {\n",
       "        vertical-align: top;\n",
       "    }\n",
       "\n",
       "    .dataframe thead th {\n",
       "        text-align: right;\n",
       "    }\n",
       "</style>\n",
       "<table border=\"1\" class=\"dataframe\">\n",
       "  <thead>\n",
       "    <tr style=\"text-align: right;\">\n",
       "      <th></th>\n",
       "      <th>year</th>\n",
       "      <th>month</th>\n",
       "      <th>data-type</th>\n",
       "      <th>hemisphere</th>\n",
       "      <th>extent</th>\n",
       "      <th>area</th>\n",
       "      <th>rank</th>\n",
       "    </tr>\n",
       "  </thead>\n",
       "  <tbody>\n",
       "    <tr>\n",
       "      <td>0</td>\n",
       "      <td>1979</td>\n",
       "      <td>9</td>\n",
       "      <td>Goddard</td>\n",
       "      <td>N</td>\n",
       "      <td>7.05</td>\n",
       "      <td>4.58</td>\n",
       "      <td>33.0</td>\n",
       "    </tr>\n",
       "    <tr>\n",
       "      <td>1</td>\n",
       "      <td>1980</td>\n",
       "      <td>9</td>\n",
       "      <td>Goddard</td>\n",
       "      <td>N</td>\n",
       "      <td>7.67</td>\n",
       "      <td>4.87</td>\n",
       "      <td>43.0</td>\n",
       "    </tr>\n",
       "    <tr>\n",
       "      <td>2</td>\n",
       "      <td>1981</td>\n",
       "      <td>9</td>\n",
       "      <td>Goddard</td>\n",
       "      <td>N</td>\n",
       "      <td>7.14</td>\n",
       "      <td>4.44</td>\n",
       "      <td>34.5</td>\n",
       "    </tr>\n",
       "    <tr>\n",
       "      <td>3</td>\n",
       "      <td>1982</td>\n",
       "      <td>9</td>\n",
       "      <td>Goddard</td>\n",
       "      <td>N</td>\n",
       "      <td>7.30</td>\n",
       "      <td>4.43</td>\n",
       "      <td>37.0</td>\n",
       "    </tr>\n",
       "    <tr>\n",
       "      <td>4</td>\n",
       "      <td>1983</td>\n",
       "      <td>9</td>\n",
       "      <td>Goddard</td>\n",
       "      <td>N</td>\n",
       "      <td>7.39</td>\n",
       "      <td>4.70</td>\n",
       "      <td>39.0</td>\n",
       "    </tr>\n",
       "    <tr>\n",
       "      <td>5</td>\n",
       "      <td>1984</td>\n",
       "      <td>9</td>\n",
       "      <td>Goddard</td>\n",
       "      <td>N</td>\n",
       "      <td>6.81</td>\n",
       "      <td>4.11</td>\n",
       "      <td>31.0</td>\n",
       "    </tr>\n",
       "    <tr>\n",
       "      <td>6</td>\n",
       "      <td>1985</td>\n",
       "      <td>9</td>\n",
       "      <td>Goddard</td>\n",
       "      <td>N</td>\n",
       "      <td>6.70</td>\n",
       "      <td>4.23</td>\n",
       "      <td>29.0</td>\n",
       "    </tr>\n",
       "    <tr>\n",
       "      <td>7</td>\n",
       "      <td>1986</td>\n",
       "      <td>9</td>\n",
       "      <td>Goddard</td>\n",
       "      <td>N</td>\n",
       "      <td>7.41</td>\n",
       "      <td>4.72</td>\n",
       "      <td>40.0</td>\n",
       "    </tr>\n",
       "    <tr>\n",
       "      <td>8</td>\n",
       "      <td>1987</td>\n",
       "      <td>9</td>\n",
       "      <td>Goddard</td>\n",
       "      <td>N</td>\n",
       "      <td>7.28</td>\n",
       "      <td>5.64</td>\n",
       "      <td>36.0</td>\n",
       "    </tr>\n",
       "    <tr>\n",
       "      <td>9</td>\n",
       "      <td>1988</td>\n",
       "      <td>9</td>\n",
       "      <td>Goddard</td>\n",
       "      <td>N</td>\n",
       "      <td>7.37</td>\n",
       "      <td>5.36</td>\n",
       "      <td>38.0</td>\n",
       "    </tr>\n",
       "    <tr>\n",
       "      <td>10</td>\n",
       "      <td>1989</td>\n",
       "      <td>9</td>\n",
       "      <td>Goddard</td>\n",
       "      <td>N</td>\n",
       "      <td>7.01</td>\n",
       "      <td>4.86</td>\n",
       "      <td>32.0</td>\n",
       "    </tr>\n",
       "    <tr>\n",
       "      <td>11</td>\n",
       "      <td>1990</td>\n",
       "      <td>9</td>\n",
       "      <td>Goddard</td>\n",
       "      <td>N</td>\n",
       "      <td>6.14</td>\n",
       "      <td>4.55</td>\n",
       "      <td>23.0</td>\n",
       "    </tr>\n",
       "    <tr>\n",
       "      <td>12</td>\n",
       "      <td>1991</td>\n",
       "      <td>9</td>\n",
       "      <td>Goddard</td>\n",
       "      <td>N</td>\n",
       "      <td>6.47</td>\n",
       "      <td>4.51</td>\n",
       "      <td>26.0</td>\n",
       "    </tr>\n",
       "    <tr>\n",
       "      <td>13</td>\n",
       "      <td>1992</td>\n",
       "      <td>9</td>\n",
       "      <td>Goddard</td>\n",
       "      <td>N</td>\n",
       "      <td>7.47</td>\n",
       "      <td>5.43</td>\n",
       "      <td>41.0</td>\n",
       "    </tr>\n",
       "    <tr>\n",
       "      <td>14</td>\n",
       "      <td>1993</td>\n",
       "      <td>9</td>\n",
       "      <td>Goddard</td>\n",
       "      <td>N</td>\n",
       "      <td>6.40</td>\n",
       "      <td>4.58</td>\n",
       "      <td>25.0</td>\n",
       "    </tr>\n",
       "    <tr>\n",
       "      <td>15</td>\n",
       "      <td>1994</td>\n",
       "      <td>9</td>\n",
       "      <td>Goddard</td>\n",
       "      <td>N</td>\n",
       "      <td>7.14</td>\n",
       "      <td>5.13</td>\n",
       "      <td>34.5</td>\n",
       "    </tr>\n",
       "    <tr>\n",
       "      <td>16</td>\n",
       "      <td>1995</td>\n",
       "      <td>9</td>\n",
       "      <td>Goddard</td>\n",
       "      <td>N</td>\n",
       "      <td>6.08</td>\n",
       "      <td>4.43</td>\n",
       "      <td>20.0</td>\n",
       "    </tr>\n",
       "    <tr>\n",
       "      <td>17</td>\n",
       "      <td>1996</td>\n",
       "      <td>9</td>\n",
       "      <td>Goddard</td>\n",
       "      <td>N</td>\n",
       "      <td>7.58</td>\n",
       "      <td>5.62</td>\n",
       "      <td>42.0</td>\n",
       "    </tr>\n",
       "    <tr>\n",
       "      <td>18</td>\n",
       "      <td>1997</td>\n",
       "      <td>9</td>\n",
       "      <td>Goddard</td>\n",
       "      <td>N</td>\n",
       "      <td>6.69</td>\n",
       "      <td>4.89</td>\n",
       "      <td>28.0</td>\n",
       "    </tr>\n",
       "    <tr>\n",
       "      <td>19</td>\n",
       "      <td>1998</td>\n",
       "      <td>9</td>\n",
       "      <td>Goddard</td>\n",
       "      <td>N</td>\n",
       "      <td>6.54</td>\n",
       "      <td>4.30</td>\n",
       "      <td>27.0</td>\n",
       "    </tr>\n",
       "    <tr>\n",
       "      <td>20</td>\n",
       "      <td>1999</td>\n",
       "      <td>9</td>\n",
       "      <td>Goddard</td>\n",
       "      <td>N</td>\n",
       "      <td>6.12</td>\n",
       "      <td>4.29</td>\n",
       "      <td>21.5</td>\n",
       "    </tr>\n",
       "    <tr>\n",
       "      <td>21</td>\n",
       "      <td>2000</td>\n",
       "      <td>9</td>\n",
       "      <td>Goddard</td>\n",
       "      <td>N</td>\n",
       "      <td>6.25</td>\n",
       "      <td>4.35</td>\n",
       "      <td>24.0</td>\n",
       "    </tr>\n",
       "    <tr>\n",
       "      <td>22</td>\n",
       "      <td>2001</td>\n",
       "      <td>9</td>\n",
       "      <td>Goddard</td>\n",
       "      <td>N</td>\n",
       "      <td>6.73</td>\n",
       "      <td>4.59</td>\n",
       "      <td>30.0</td>\n",
       "    </tr>\n",
       "    <tr>\n",
       "      <td>23</td>\n",
       "      <td>2002</td>\n",
       "      <td>9</td>\n",
       "      <td>Goddard</td>\n",
       "      <td>N</td>\n",
       "      <td>5.83</td>\n",
       "      <td>4.03</td>\n",
       "      <td>17.0</td>\n",
       "    </tr>\n",
       "    <tr>\n",
       "      <td>24</td>\n",
       "      <td>2003</td>\n",
       "      <td>9</td>\n",
       "      <td>Goddard</td>\n",
       "      <td>N</td>\n",
       "      <td>6.12</td>\n",
       "      <td>4.05</td>\n",
       "      <td>21.5</td>\n",
       "    </tr>\n",
       "    <tr>\n",
       "      <td>25</td>\n",
       "      <td>2004</td>\n",
       "      <td>9</td>\n",
       "      <td>Goddard</td>\n",
       "      <td>N</td>\n",
       "      <td>5.98</td>\n",
       "      <td>4.39</td>\n",
       "      <td>19.0</td>\n",
       "    </tr>\n",
       "    <tr>\n",
       "      <td>26</td>\n",
       "      <td>2005</td>\n",
       "      <td>9</td>\n",
       "      <td>Goddard</td>\n",
       "      <td>N</td>\n",
       "      <td>5.50</td>\n",
       "      <td>4.07</td>\n",
       "      <td>16.0</td>\n",
       "    </tr>\n",
       "    <tr>\n",
       "      <td>27</td>\n",
       "      <td>2006</td>\n",
       "      <td>9</td>\n",
       "      <td>Goddard</td>\n",
       "      <td>N</td>\n",
       "      <td>5.86</td>\n",
       "      <td>4.01</td>\n",
       "      <td>18.0</td>\n",
       "    </tr>\n",
       "    <tr>\n",
       "      <td>28</td>\n",
       "      <td>2007</td>\n",
       "      <td>9</td>\n",
       "      <td>Goddard</td>\n",
       "      <td>N</td>\n",
       "      <td>4.27</td>\n",
       "      <td>2.82</td>\n",
       "      <td>3.0</td>\n",
       "    </tr>\n",
       "    <tr>\n",
       "      <td>29</td>\n",
       "      <td>2008</td>\n",
       "      <td>9</td>\n",
       "      <td>Goddard</td>\n",
       "      <td>N</td>\n",
       "      <td>4.69</td>\n",
       "      <td>3.26</td>\n",
       "      <td>8.0</td>\n",
       "    </tr>\n",
       "    <tr>\n",
       "      <td>30</td>\n",
       "      <td>2009</td>\n",
       "      <td>9</td>\n",
       "      <td>Goddard</td>\n",
       "      <td>N</td>\n",
       "      <td>5.26</td>\n",
       "      <td>3.76</td>\n",
       "      <td>15.0</td>\n",
       "    </tr>\n",
       "    <tr>\n",
       "      <td>31</td>\n",
       "      <td>2010</td>\n",
       "      <td>9</td>\n",
       "      <td>Goddard</td>\n",
       "      <td>N</td>\n",
       "      <td>4.87</td>\n",
       "      <td>3.34</td>\n",
       "      <td>11.0</td>\n",
       "    </tr>\n",
       "    <tr>\n",
       "      <td>32</td>\n",
       "      <td>2011</td>\n",
       "      <td>9</td>\n",
       "      <td>Goddard</td>\n",
       "      <td>N</td>\n",
       "      <td>4.56</td>\n",
       "      <td>3.21</td>\n",
       "      <td>6.0</td>\n",
       "    </tr>\n",
       "    <tr>\n",
       "      <td>33</td>\n",
       "      <td>2012</td>\n",
       "      <td>9</td>\n",
       "      <td>Goddard</td>\n",
       "      <td>N</td>\n",
       "      <td>3.57</td>\n",
       "      <td>2.41</td>\n",
       "      <td>1.0</td>\n",
       "    </tr>\n",
       "    <tr>\n",
       "      <td>34</td>\n",
       "      <td>2013</td>\n",
       "      <td>9</td>\n",
       "      <td>Goddard</td>\n",
       "      <td>N</td>\n",
       "      <td>5.21</td>\n",
       "      <td>3.78</td>\n",
       "      <td>13.0</td>\n",
       "    </tr>\n",
       "    <tr>\n",
       "      <td>35</td>\n",
       "      <td>2014</td>\n",
       "      <td>9</td>\n",
       "      <td>Goddard</td>\n",
       "      <td>N</td>\n",
       "      <td>5.22</td>\n",
       "      <td>3.74</td>\n",
       "      <td>14.0</td>\n",
       "    </tr>\n",
       "    <tr>\n",
       "      <td>36</td>\n",
       "      <td>2015</td>\n",
       "      <td>9</td>\n",
       "      <td>Goddard</td>\n",
       "      <td>N</td>\n",
       "      <td>4.62</td>\n",
       "      <td>3.42</td>\n",
       "      <td>7.0</td>\n",
       "    </tr>\n",
       "    <tr>\n",
       "      <td>37</td>\n",
       "      <td>2016</td>\n",
       "      <td>9</td>\n",
       "      <td>Goddard</td>\n",
       "      <td>N</td>\n",
       "      <td>4.53</td>\n",
       "      <td>2.91</td>\n",
       "      <td>5.0</td>\n",
       "    </tr>\n",
       "    <tr>\n",
       "      <td>38</td>\n",
       "      <td>2017</td>\n",
       "      <td>9</td>\n",
       "      <td>Goddard</td>\n",
       "      <td>N</td>\n",
       "      <td>4.82</td>\n",
       "      <td>3.35</td>\n",
       "      <td>10.0</td>\n",
       "    </tr>\n",
       "    <tr>\n",
       "      <td>39</td>\n",
       "      <td>2018</td>\n",
       "      <td>9</td>\n",
       "      <td>Goddard</td>\n",
       "      <td>N</td>\n",
       "      <td>4.79</td>\n",
       "      <td>3.35</td>\n",
       "      <td>9.0</td>\n",
       "    </tr>\n",
       "    <tr>\n",
       "      <td>40</td>\n",
       "      <td>2019</td>\n",
       "      <td>9</td>\n",
       "      <td>Goddard</td>\n",
       "      <td>N</td>\n",
       "      <td>4.36</td>\n",
       "      <td>3.17</td>\n",
       "      <td>4.0</td>\n",
       "    </tr>\n",
       "    <tr>\n",
       "      <td>41</td>\n",
       "      <td>2020</td>\n",
       "      <td>9</td>\n",
       "      <td>Goddard</td>\n",
       "      <td>N</td>\n",
       "      <td>4.00</td>\n",
       "      <td>2.83</td>\n",
       "      <td>2.0</td>\n",
       "    </tr>\n",
       "    <tr>\n",
       "      <td>42</td>\n",
       "      <td>2021</td>\n",
       "      <td>9</td>\n",
       "      <td>NRTSI-G</td>\n",
       "      <td>N</td>\n",
       "      <td>4.92</td>\n",
       "      <td>3.43</td>\n",
       "      <td>12.0</td>\n",
       "    </tr>\n",
       "  </tbody>\n",
       "</table>\n",
       "</div>"
      ],
      "text/plain": [
       "    year  month data-type hemisphere  extent  area  rank\n",
       "0   1979      9   Goddard          N    7.05  4.58  33.0\n",
       "1   1980      9   Goddard          N    7.67  4.87  43.0\n",
       "2   1981      9   Goddard          N    7.14  4.44  34.5\n",
       "3   1982      9   Goddard          N    7.30  4.43  37.0\n",
       "4   1983      9   Goddard          N    7.39  4.70  39.0\n",
       "5   1984      9   Goddard          N    6.81  4.11  31.0\n",
       "6   1985      9   Goddard          N    6.70  4.23  29.0\n",
       "7   1986      9   Goddard          N    7.41  4.72  40.0\n",
       "8   1987      9   Goddard          N    7.28  5.64  36.0\n",
       "9   1988      9   Goddard          N    7.37  5.36  38.0\n",
       "10  1989      9   Goddard          N    7.01  4.86  32.0\n",
       "11  1990      9   Goddard          N    6.14  4.55  23.0\n",
       "12  1991      9   Goddard          N    6.47  4.51  26.0\n",
       "13  1992      9   Goddard          N    7.47  5.43  41.0\n",
       "14  1993      9   Goddard          N    6.40  4.58  25.0\n",
       "15  1994      9   Goddard          N    7.14  5.13  34.5\n",
       "16  1995      9   Goddard          N    6.08  4.43  20.0\n",
       "17  1996      9   Goddard          N    7.58  5.62  42.0\n",
       "18  1997      9   Goddard          N    6.69  4.89  28.0\n",
       "19  1998      9   Goddard          N    6.54  4.30  27.0\n",
       "20  1999      9   Goddard          N    6.12  4.29  21.5\n",
       "21  2000      9   Goddard          N    6.25  4.35  24.0\n",
       "22  2001      9   Goddard          N    6.73  4.59  30.0\n",
       "23  2002      9   Goddard          N    5.83  4.03  17.0\n",
       "24  2003      9   Goddard          N    6.12  4.05  21.5\n",
       "25  2004      9   Goddard          N    5.98  4.39  19.0\n",
       "26  2005      9   Goddard          N    5.50  4.07  16.0\n",
       "27  2006      9   Goddard          N    5.86  4.01  18.0\n",
       "28  2007      9   Goddard          N    4.27  2.82   3.0\n",
       "29  2008      9   Goddard          N    4.69  3.26   8.0\n",
       "30  2009      9   Goddard          N    5.26  3.76  15.0\n",
       "31  2010      9   Goddard          N    4.87  3.34  11.0\n",
       "32  2011      9   Goddard          N    4.56  3.21   6.0\n",
       "33  2012      9   Goddard          N    3.57  2.41   1.0\n",
       "34  2013      9   Goddard          N    5.21  3.78  13.0\n",
       "35  2014      9   Goddard          N    5.22  3.74  14.0\n",
       "36  2015      9   Goddard          N    4.62  3.42   7.0\n",
       "37  2016      9   Goddard          N    4.53  2.91   5.0\n",
       "38  2017      9   Goddard          N    4.82  3.35  10.0\n",
       "39  2018      9   Goddard          N    4.79  3.35   9.0\n",
       "40  2019      9   Goddard          N    4.36  3.17   4.0\n",
       "41  2020      9   Goddard          N    4.00  2.83   2.0\n",
       "42  2021      9   NRTSI-G          N    4.92  3.43  12.0"
      ]
     },
     "execution_count": 2,
     "metadata": {},
     "output_type": "execute_result"
    }
   ],
   "source": [
    "df = pd.read_csv('C:\\\\Users\\\\HP\\\\Downloads\\\\cleaned arctic data.csv')\n",
    "df"
   ]
  },
  {
   "cell_type": "markdown",
   "metadata": {},
   "source": [
    "### find Shape "
   ]
  },
  {
   "cell_type": "code",
   "execution_count": 3,
   "metadata": {},
   "outputs": [
    {
     "data": {
      "text/plain": [
       "(43, 7)"
      ]
     },
     "execution_count": 3,
     "metadata": {},
     "output_type": "execute_result"
    }
   ],
   "source": [
    "df.shape"
   ]
  },
  {
   "cell_type": "markdown",
   "metadata": {},
   "source": [
    "###  Describing all of the Statistical Concepts\n"
   ]
  },
  {
   "cell_type": "code",
   "execution_count": 4,
   "metadata": {},
   "outputs": [
    {
     "data": {
      "text/html": [
       "<div>\n",
       "<style scoped>\n",
       "    .dataframe tbody tr th:only-of-type {\n",
       "        vertical-align: middle;\n",
       "    }\n",
       "\n",
       "    .dataframe tbody tr th {\n",
       "        vertical-align: top;\n",
       "    }\n",
       "\n",
       "    .dataframe thead th {\n",
       "        text-align: right;\n",
       "    }\n",
       "</style>\n",
       "<table border=\"1\" class=\"dataframe\">\n",
       "  <thead>\n",
       "    <tr style=\"text-align: right;\">\n",
       "      <th></th>\n",
       "      <th>year</th>\n",
       "      <th>month</th>\n",
       "      <th>extent</th>\n",
       "      <th>area</th>\n",
       "      <th>rank</th>\n",
       "    </tr>\n",
       "  </thead>\n",
       "  <tbody>\n",
       "    <tr>\n",
       "      <td>count</td>\n",
       "      <td>43.000000</td>\n",
       "      <td>43.0</td>\n",
       "      <td>43.000000</td>\n",
       "      <td>43.000000</td>\n",
       "      <td>43.000000</td>\n",
       "    </tr>\n",
       "    <tr>\n",
       "      <td>mean</td>\n",
       "      <td>2000.000000</td>\n",
       "      <td>9.0</td>\n",
       "      <td>5.993488</td>\n",
       "      <td>4.138140</td>\n",
       "      <td>22.000000</td>\n",
       "    </tr>\n",
       "    <tr>\n",
       "      <td>std</td>\n",
       "      <td>12.556539</td>\n",
       "      <td>0.0</td>\n",
       "      <td>1.144945</td>\n",
       "      <td>0.788073</td>\n",
       "      <td>12.555591</td>\n",
       "    </tr>\n",
       "    <tr>\n",
       "      <td>min</td>\n",
       "      <td>1979.000000</td>\n",
       "      <td>9.0</td>\n",
       "      <td>3.570000</td>\n",
       "      <td>2.410000</td>\n",
       "      <td>1.000000</td>\n",
       "    </tr>\n",
       "    <tr>\n",
       "      <td>25%</td>\n",
       "      <td>1989.500000</td>\n",
       "      <td>9.0</td>\n",
       "      <td>4.895000</td>\n",
       "      <td>3.425000</td>\n",
       "      <td>11.500000</td>\n",
       "    </tr>\n",
       "    <tr>\n",
       "      <td>50%</td>\n",
       "      <td>2000.000000</td>\n",
       "      <td>9.0</td>\n",
       "      <td>6.120000</td>\n",
       "      <td>4.290000</td>\n",
       "      <td>21.500000</td>\n",
       "    </tr>\n",
       "    <tr>\n",
       "      <td>75%</td>\n",
       "      <td>2010.500000</td>\n",
       "      <td>9.0</td>\n",
       "      <td>7.030000</td>\n",
       "      <td>4.585000</td>\n",
       "      <td>32.500000</td>\n",
       "    </tr>\n",
       "    <tr>\n",
       "      <td>max</td>\n",
       "      <td>2021.000000</td>\n",
       "      <td>9.0</td>\n",
       "      <td>7.670000</td>\n",
       "      <td>5.640000</td>\n",
       "      <td>43.000000</td>\n",
       "    </tr>\n",
       "  </tbody>\n",
       "</table>\n",
       "</div>"
      ],
      "text/plain": [
       "              year  month     extent       area       rank\n",
       "count    43.000000   43.0  43.000000  43.000000  43.000000\n",
       "mean   2000.000000    9.0   5.993488   4.138140  22.000000\n",
       "std      12.556539    0.0   1.144945   0.788073  12.555591\n",
       "min    1979.000000    9.0   3.570000   2.410000   1.000000\n",
       "25%    1989.500000    9.0   4.895000   3.425000  11.500000\n",
       "50%    2000.000000    9.0   6.120000   4.290000  21.500000\n",
       "75%    2010.500000    9.0   7.030000   4.585000  32.500000\n",
       "max    2021.000000    9.0   7.670000   5.640000  43.000000"
      ]
     },
     "execution_count": 4,
     "metadata": {},
     "output_type": "execute_result"
    }
   ],
   "source": [
    "df.describe()"
   ]
  },
  {
   "cell_type": "markdown",
   "metadata": {},
   "source": [
    "###  Storing in it a variable"
   ]
  },
  {
   "cell_type": "code",
   "execution_count": 5,
   "metadata": {},
   "outputs": [
    {
     "data": {
      "text/html": [
       "<div>\n",
       "<style scoped>\n",
       "    .dataframe tbody tr th:only-of-type {\n",
       "        vertical-align: middle;\n",
       "    }\n",
       "\n",
       "    .dataframe tbody tr th {\n",
       "        vertical-align: top;\n",
       "    }\n",
       "\n",
       "    .dataframe thead th {\n",
       "        text-align: right;\n",
       "    }\n",
       "</style>\n",
       "<table border=\"1\" class=\"dataframe\">\n",
       "  <thead>\n",
       "    <tr style=\"text-align: right;\">\n",
       "      <th></th>\n",
       "      <th>year</th>\n",
       "      <th>month</th>\n",
       "      <th>extent</th>\n",
       "      <th>area</th>\n",
       "      <th>rank</th>\n",
       "    </tr>\n",
       "  </thead>\n",
       "  <tbody>\n",
       "    <tr>\n",
       "      <td>count</td>\n",
       "      <td>43.000000</td>\n",
       "      <td>43.0</td>\n",
       "      <td>43.000000</td>\n",
       "      <td>43.000000</td>\n",
       "      <td>43.000000</td>\n",
       "    </tr>\n",
       "    <tr>\n",
       "      <td>mean</td>\n",
       "      <td>2000.000000</td>\n",
       "      <td>9.0</td>\n",
       "      <td>5.993488</td>\n",
       "      <td>4.138140</td>\n",
       "      <td>22.000000</td>\n",
       "    </tr>\n",
       "    <tr>\n",
       "      <td>std</td>\n",
       "      <td>12.556539</td>\n",
       "      <td>0.0</td>\n",
       "      <td>1.144945</td>\n",
       "      <td>0.788073</td>\n",
       "      <td>12.555591</td>\n",
       "    </tr>\n",
       "    <tr>\n",
       "      <td>min</td>\n",
       "      <td>1979.000000</td>\n",
       "      <td>9.0</td>\n",
       "      <td>3.570000</td>\n",
       "      <td>2.410000</td>\n",
       "      <td>1.000000</td>\n",
       "    </tr>\n",
       "    <tr>\n",
       "      <td>25%</td>\n",
       "      <td>1989.500000</td>\n",
       "      <td>9.0</td>\n",
       "      <td>4.895000</td>\n",
       "      <td>3.425000</td>\n",
       "      <td>11.500000</td>\n",
       "    </tr>\n",
       "    <tr>\n",
       "      <td>50%</td>\n",
       "      <td>2000.000000</td>\n",
       "      <td>9.0</td>\n",
       "      <td>6.120000</td>\n",
       "      <td>4.290000</td>\n",
       "      <td>21.500000</td>\n",
       "    </tr>\n",
       "    <tr>\n",
       "      <td>75%</td>\n",
       "      <td>2010.500000</td>\n",
       "      <td>9.0</td>\n",
       "      <td>7.030000</td>\n",
       "      <td>4.585000</td>\n",
       "      <td>32.500000</td>\n",
       "    </tr>\n",
       "    <tr>\n",
       "      <td>max</td>\n",
       "      <td>2021.000000</td>\n",
       "      <td>9.0</td>\n",
       "      <td>7.670000</td>\n",
       "      <td>5.640000</td>\n",
       "      <td>43.000000</td>\n",
       "    </tr>\n",
       "  </tbody>\n",
       "</table>\n",
       "</div>"
      ],
      "text/plain": [
       "              year  month     extent       area       rank\n",
       "count    43.000000   43.0  43.000000  43.000000  43.000000\n",
       "mean   2000.000000    9.0   5.993488   4.138140  22.000000\n",
       "std      12.556539    0.0   1.144945   0.788073  12.555591\n",
       "min    1979.000000    9.0   3.570000   2.410000   1.000000\n",
       "25%    1989.500000    9.0   4.895000   3.425000  11.500000\n",
       "50%    2000.000000    9.0   6.120000   4.290000  21.500000\n",
       "75%    2010.500000    9.0   7.030000   4.585000  32.500000\n",
       "max    2021.000000    9.0   7.670000   5.640000  43.000000"
      ]
     },
     "execution_count": 5,
     "metadata": {},
     "output_type": "execute_result"
    }
   ],
   "source": [
    "dd = df.describe()\n",
    "dd"
   ]
  },
  {
   "cell_type": "markdown",
   "metadata": {},
   "source": [
    "### Statistical Plotting for area "
   ]
  },
  {
   "cell_type": "code",
   "execution_count": 6,
   "metadata": {},
   "outputs": [
    {
     "data": {
      "text/plain": [
       "<matplotlib.axes._subplots.AxesSubplot at 0x21492c4f208>"
      ]
     },
     "execution_count": 6,
     "metadata": {},
     "output_type": "execute_result"
    },
    {
     "data": {
      "image/png": "[encoded data removed]",
      "text/plain": [
       "<Figure size 1008x432 with 1 Axes>"
      ]
     },
     "metadata": {
      "needs_background": "light"
     },
     "output_type": "display_data"
    }
   ],
   "source": [
    "plt.figure(figsize = (14, 6))\n",
    "plt.title('Statistics for Area column', fontsize = 15)\n",
    "plt.xlabel('Statistical methodologies', fontsize = 15)\n",
    "plt.ylabel('Values', fontsize = 15)\n",
    "sns.scatterplot(data = dd['area'], marker = \">\", s = 300, color = '0.2')"
   ]
  },
  {
   "cell_type": "markdown",
   "metadata": {},
   "source": [
    "###  Statistical Plotting for rank"
   ]
  },
  {
   "cell_type": "code",
   "execution_count": 7,
   "metadata": {},
   "outputs": [
    {
     "data": {
      "text/plain": [
       "<matplotlib.axes._subplots.AxesSubplot at 0x21493ce9c48>"
      ]
     },
     "execution_count": 7,
     "metadata": {},
     "output_type": "execute_result"
    },
    {
     "data": {
      "image/png": "[encoded data removed]",
      "text/plain": [
       "<Figure size 1008x432 with 1 Axes>"
      ]
     },
     "metadata": {
      "needs_background": "light"
     },
     "output_type": "display_data"
    }
   ],
   "source": [
    "plt.figure(figsize = (14, 6))\n",
    "plt.title('Statistics for Rank column',fontsize = 15)\n",
    "plt.xlabel('Statistical methodologies', fontsize = 15)\n",
    "plt.ylabel('Values', fontsize = 15)\n",
    "sns.scatterplot(data = dd['rank'],marker = \"<\", s = 300, color = '0.1')"
   ]
  },
  {
   "cell_type": "markdown",
   "metadata": {},
   "source": [
    "###  Show the Unique Value Counts of \"Year\""
   ]
  },
  {
   "cell_type": "code",
   "execution_count": 8,
   "metadata": {},
   "outputs": [
    {
     "data": {
      "text/plain": [
       "1983    1\n",
       "1994    1\n",
       "2002    1\n",
       "2001    1\n",
       "2000    1\n",
       "1999    1\n",
       "1998    1\n",
       "1997    1\n",
       "1996    1\n",
       "1995    1\n",
       "1993    1\n",
       "2004    1\n",
       "1992    1\n",
       "1991    1\n",
       "1990    1\n",
       "1989    1\n",
       "1988    1\n",
       "1987    1\n",
       "1986    1\n",
       "1985    1\n",
       "2003    1\n",
       "2005    1\n",
       "1982    1\n",
       "2016    1\n",
       "1981    1\n",
       "1980    1\n",
       "1979    1\n",
       "2021    1\n",
       "2020    1\n",
       "2019    1\n",
       "2018    1\n",
       "2017    1\n",
       "2015    1\n",
       "2006    1\n",
       "2014    1\n",
       "2013    1\n",
       "2012    1\n",
       "2011    1\n",
       "2010    1\n",
       "2009    1\n",
       "2008    1\n",
       "2007    1\n",
       "1984    1\n",
       "Name: year, dtype: int64"
      ]
     },
     "execution_count": 8,
     "metadata": {},
     "output_type": "execute_result"
    }
   ],
   "source": [
    "df['year'].value_counts()"
   ]
  },
  {
   "cell_type": "markdown",
   "metadata": {},
   "source": [
    "###  Show the Unique Value Counts of \"month\""
   ]
  },
  {
   "cell_type": "code",
   "execution_count": 9,
   "metadata": {},
   "outputs": [
    {
     "data": {
      "text/plain": [
       "9    43\n",
       "Name: month, dtype: int64"
      ]
     },
     "execution_count": 9,
     "metadata": {},
     "output_type": "execute_result"
    }
   ],
   "source": [
    "df['month'].value_counts()"
   ]
  },
  {
   "cell_type": "markdown",
   "metadata": {},
   "source": [
    "### Show the Unique Value Counts of \"data-type\""
   ]
  },
  {
   "cell_type": "code",
   "execution_count": 10,
   "metadata": {},
   "outputs": [
    {
     "data": {
      "text/plain": [
       "Goddard    42\n",
       "NRTSI-G     1\n",
       "Name: data-type, dtype: int64"
      ]
     },
     "execution_count": 10,
     "metadata": {},
     "output_type": "execute_result"
    }
   ],
   "source": [
    "df['data-type'].value_counts()"
   ]
  },
  {
   "cell_type": "markdown",
   "metadata": {},
   "source": [
    "###  Show the Unique Value Counts of \"hemisphere\""
   ]
  },
  {
   "cell_type": "code",
   "execution_count": 11,
   "metadata": {},
   "outputs": [
    {
     "data": {
      "text/plain": [
       "N    43\n",
       "Name: hemisphere, dtype: int64"
      ]
     },
     "execution_count": 11,
     "metadata": {},
     "output_type": "execute_result"
    }
   ],
   "source": [
    "df['hemisphere'].value_counts()"
   ]
  },
  {
   "cell_type": "markdown",
   "metadata": {},
   "source": [
    "###  Show the Unique Value Counts of \"extent\""
   ]
  },
  {
   "cell_type": "code",
   "execution_count": 12,
   "metadata": {},
   "outputs": [
    {
     "data": {
      "text/plain": [
       "6.12    2\n",
       "7.14    2\n",
       "7.39    1\n",
       "4.62    1\n",
       "4.36    1\n",
       "6.40    1\n",
       "7.01    1\n",
       "6.54    1\n",
       "5.21    1\n",
       "7.41    1\n",
       "4.56    1\n",
       "7.47    1\n",
       "5.83    1\n",
       "4.00    1\n",
       "5.50    1\n",
       "6.81    1\n",
       "6.69    1\n",
       "7.28    1\n",
       "6.47    1\n",
       "7.58    1\n",
       "7.37    1\n",
       "5.86    1\n",
       "4.82    1\n",
       "6.73    1\n",
       "6.14    1\n",
       "4.92    1\n",
       "5.26    1\n",
       "4.87    1\n",
       "4.69    1\n",
       "5.22    1\n",
       "7.30    1\n",
       "6.70    1\n",
       "5.98    1\n",
       "7.05    1\n",
       "4.27    1\n",
       "3.57    1\n",
       "6.08    1\n",
       "4.79    1\n",
       "4.53    1\n",
       "7.67    1\n",
       "6.25    1\n",
       "Name: extent, dtype: int64"
      ]
     },
     "execution_count": 12,
     "metadata": {},
     "output_type": "execute_result"
    }
   ],
   "source": [
    "df['extent'].value_counts()"
   ]
  },
  {
   "cell_type": "markdown",
   "metadata": {},
   "source": [
    "###  Plotting frequency of \"extent\""
   ]
  },
  {
   "cell_type": "code",
   "execution_count": 13,
   "metadata": {},
   "outputs": [
    {
     "name": "stdout",
     "output_type": "stream",
     "text": [
      "6.12    2\n",
      "7.14    2\n",
      "7.39    1\n",
      "4.62    1\n",
      "4.36    1\n",
      "6.40    1\n",
      "7.01    1\n",
      "6.54    1\n",
      "5.21    1\n",
      "7.41    1\n",
      "4.56    1\n",
      "7.47    1\n",
      "5.83    1\n",
      "4.00    1\n",
      "5.50    1\n",
      "6.81    1\n",
      "6.69    1\n",
      "7.28    1\n",
      "6.47    1\n",
      "7.58    1\n",
      "7.37    1\n",
      "5.86    1\n",
      "4.82    1\n",
      "6.73    1\n",
      "6.14    1\n",
      "4.92    1\n",
      "5.26    1\n",
      "4.87    1\n",
      "4.69    1\n",
      "5.22    1\n",
      "7.30    1\n",
      "6.70    1\n",
      "5.98    1\n",
      "7.05    1\n",
      "4.27    1\n",
      "3.57    1\n",
      "6.08    1\n",
      "4.79    1\n",
      "4.53    1\n",
      "7.67    1\n",
      "6.25    1\n",
      "Name: extent, dtype: int64\n"
     ]
    },
    {
     "data": {
      "image/png": "[encoded data removed]",
      "text/plain": [
       "<Figure size 648x576 with 1 Axes>"
      ]
     },
     "metadata": {
      "needs_background": "light"
     },
     "output_type": "display_data"
    }
   ],
   "source": [
    "print(df['extent'].value_counts())\n",
    "plt.figure(figsize = (9, 8))\n",
    "sns.distplot(df['extent'], color = 'g', bins = 100, hist_kws = {'alpha': 0.4});"
   ]
  },
  {
   "cell_type": "markdown",
   "metadata": {},
   "source": [
    "###  Show the Unique Value Counts of \"area\""
   ]
  },
  {
   "cell_type": "code",
   "execution_count": 14,
   "metadata": {},
   "outputs": [
    {
     "data": {
      "text/plain": [
       "3.35    2\n",
       "4.58    2\n",
       "4.43    2\n",
       "3.78    1\n",
       "4.89    1\n",
       "3.43    1\n",
       "3.74    1\n",
       "4.35    1\n",
       "4.51    1\n",
       "4.29    1\n",
       "2.83    1\n",
       "2.91    1\n",
       "4.07    1\n",
       "4.87    1\n",
       "5.13    1\n",
       "3.34    1\n",
       "4.59    1\n",
       "5.36    1\n",
       "4.44    1\n",
       "4.03    1\n",
       "3.17    1\n",
       "4.11    1\n",
       "5.62    1\n",
       "5.64    1\n",
       "4.39    1\n",
       "4.05    1\n",
       "4.01    1\n",
       "3.76    1\n",
       "2.41    1\n",
       "4.30    1\n",
       "3.42    1\n",
       "4.55    1\n",
       "4.23    1\n",
       "4.70    1\n",
       "4.86    1\n",
       "3.26    1\n",
       "2.82    1\n",
       "3.21    1\n",
       "5.43    1\n",
       "4.72    1\n",
       "Name: area, dtype: int64"
      ]
     },
     "execution_count": 14,
     "metadata": {},
     "output_type": "execute_result"
    }
   ],
   "source": [
    "df['area'].value_counts()"
   ]
  },
  {
   "cell_type": "markdown",
   "metadata": {},
   "source": [
    "###  Plotting frequency of \"area\""
   ]
  },
  {
   "cell_type": "code",
   "execution_count": 15,
   "metadata": {},
   "outputs": [
    {
     "name": "stdout",
     "output_type": "stream",
     "text": [
      "3.35    2\n",
      "4.58    2\n",
      "4.43    2\n",
      "3.78    1\n",
      "4.89    1\n",
      "3.43    1\n",
      "3.74    1\n",
      "4.35    1\n",
      "4.51    1\n",
      "4.29    1\n",
      "2.83    1\n",
      "2.91    1\n",
      "4.07    1\n",
      "4.87    1\n",
      "5.13    1\n",
      "3.34    1\n",
      "4.59    1\n",
      "5.36    1\n",
      "4.44    1\n",
      "4.03    1\n",
      "3.17    1\n",
      "4.11    1\n",
      "5.62    1\n",
      "5.64    1\n",
      "4.39    1\n",
      "4.05    1\n",
      "4.01    1\n",
      "3.76    1\n",
      "2.41    1\n",
      "4.30    1\n",
      "3.42    1\n",
      "4.55    1\n",
      "4.23    1\n",
      "4.70    1\n",
      "4.86    1\n",
      "3.26    1\n",
      "2.82    1\n",
      "3.21    1\n",
      "5.43    1\n",
      "4.72    1\n",
      "Name: area, dtype: int64\n"
     ]
    },
    {
     "data": {
      "image/png": "[encoded data removed]",
      "text/plain": [
       "<Figure size 648x576 with 1 Axes>"
      ]
     },
     "metadata": {
      "needs_background": "light"
     },
     "output_type": "display_data"
    }
   ],
   "source": [
    "print(df['area'].value_counts())\n",
    "plt.figure(figsize = (9, 8))\n",
    "sns.distplot(df['area'], color = 'g', bins = 100, hist_kws = {'alpha': 0.4});"
   ]
  },
  {
   "cell_type": "markdown",
   "metadata": {},
   "source": [
    "###  Show the Unique Value Counts of \"rank\""
   ]
  },
  {
   "cell_type": "code",
   "execution_count": 16,
   "metadata": {},
   "outputs": [
    {
     "data": {
      "text/plain": [
       "34.5    2\n",
       "21.5    2\n",
       "12.0    1\n",
       "32.0    1\n",
       "28.0    1\n",
       "42.0    1\n",
       "20.0    1\n",
       "25.0    1\n",
       "41.0    1\n",
       "26.0    1\n",
       "23.0    1\n",
       "38.0    1\n",
       "36.0    1\n",
       "40.0    1\n",
       "29.0    1\n",
       "31.0    1\n",
       "39.0    1\n",
       "37.0    1\n",
       "43.0    1\n",
       "27.0    1\n",
       "24.0    1\n",
       "2.0     1\n",
       "30.0    1\n",
       "4.0     1\n",
       "9.0     1\n",
       "10.0    1\n",
       "5.0     1\n",
       "7.0     1\n",
       "14.0    1\n",
       "13.0    1\n",
       "1.0     1\n",
       "6.0     1\n",
       "11.0    1\n",
       "15.0    1\n",
       "8.0     1\n",
       "3.0     1\n",
       "18.0    1\n",
       "16.0    1\n",
       "19.0    1\n",
       "17.0    1\n",
       "33.0    1\n",
       "Name: rank, dtype: int64"
      ]
     },
     "execution_count": 16,
     "metadata": {},
     "output_type": "execute_result"
    }
   ],
   "source": [
    "df['rank'].value_counts()"
   ]
  },
  {
   "cell_type": "markdown",
   "metadata": {},
   "source": [
    "### Plotting frequency of \"rank\" "
   ]
  },
  {
   "cell_type": "code",
   "execution_count": 17,
   "metadata": {},
   "outputs": [
    {
     "name": "stdout",
     "output_type": "stream",
     "text": [
      "34.5    2\n",
      "21.5    2\n",
      "12.0    1\n",
      "32.0    1\n",
      "28.0    1\n",
      "42.0    1\n",
      "20.0    1\n",
      "25.0    1\n",
      "41.0    1\n",
      "26.0    1\n",
      "23.0    1\n",
      "38.0    1\n",
      "36.0    1\n",
      "40.0    1\n",
      "29.0    1\n",
      "31.0    1\n",
      "39.0    1\n",
      "37.0    1\n",
      "43.0    1\n",
      "27.0    1\n",
      "24.0    1\n",
      "2.0     1\n",
      "30.0    1\n",
      "4.0     1\n",
      "9.0     1\n",
      "10.0    1\n",
      "5.0     1\n",
      "7.0     1\n",
      "14.0    1\n",
      "13.0    1\n",
      "1.0     1\n",
      "6.0     1\n",
      "11.0    1\n",
      "15.0    1\n",
      "8.0     1\n",
      "3.0     1\n",
      "18.0    1\n",
      "16.0    1\n",
      "19.0    1\n",
      "17.0    1\n",
      "33.0    1\n",
      "Name: rank, dtype: int64\n"
     ]
    },
    {
     "data": {
      "image/png": "[encoded data removed]",
      "text/plain": [
       "<Figure size 648x576 with 1 Axes>"
      ]
     },
     "metadata": {
      "needs_background": "light"
     },
     "output_type": "display_data"
    }
   ],
   "source": [
    "print(df['rank'].value_counts())\n",
    "plt.figure(figsize = (9, 8))\n",
    "sns.distplot(df['rank'], color = 'g', bins = 100, hist_kws = {'alpha': 0.4});"
   ]
  },
  {
   "cell_type": "markdown",
   "metadata": {},
   "source": [
    "###  Check the total NaN Values of each Column"
   ]
  },
  {
   "cell_type": "code",
   "execution_count": 18,
   "metadata": {
    "scrolled": true
   },
   "outputs": [
    {
     "data": {
      "text/plain": [
       "year          0\n",
       "month         0\n",
       "data-type     0\n",
       "hemisphere    0\n",
       "extent        0\n",
       "area          0\n",
       "rank          0\n",
       "dtype: int64"
      ]
     },
     "execution_count": 18,
     "metadata": {},
     "output_type": "execute_result"
    }
   ],
   "source": [
    "df.isnull().sum()"
   ]
  },
  {
   "cell_type": "markdown",
   "metadata": {},
   "source": [
    "###  Check the total Not NaN Values of each Column"
   ]
  },
  {
   "cell_type": "code",
   "execution_count": 19,
   "metadata": {},
   "outputs": [
    {
     "data": {
      "text/plain": [
       "year          43\n",
       "month         43\n",
       "data-type     43\n",
       "hemisphere    43\n",
       "extent        43\n",
       "area          43\n",
       "rank          43\n",
       "dtype: int64"
      ]
     },
     "execution_count": 19,
     "metadata": {},
     "output_type": "execute_result"
    }
   ],
   "source": [
    "df.notnull().sum()"
   ]
  },
  {
   "cell_type": "markdown",
   "metadata": {},
   "source": [
    "###  Find the Mean of the each Column"
   ]
  },
  {
   "cell_type": "code",
   "execution_count": 20,
   "metadata": {},
   "outputs": [
    {
     "data": {
      "text/plain": [
       "extent    5.993488\n",
       "area      4.138140\n",
       "dtype: float64"
      ]
     },
     "execution_count": 20,
     "metadata": {},
     "output_type": "execute_result"
    }
   ],
   "source": [
    "df[['extent', 'area']].mean()"
   ]
  },
  {
   "cell_type": "markdown",
   "metadata": {},
   "source": [
    "###  Storing in it a variable"
   ]
  },
  {
   "cell_type": "code",
   "execution_count": 21,
   "metadata": {},
   "outputs": [],
   "source": [
    "m=df[['extent', 'area']].mean()"
   ]
  },
  {
   "cell_type": "markdown",
   "metadata": {},
   "source": [
    "### Plotting of mean "
   ]
  },
  {
   "cell_type": "code",
   "execution_count": 22,
   "metadata": {},
   "outputs": [
    {
     "data": {
      "text/plain": [
       "<matplotlib.axes._subplots.AxesSubplot at 0x21494768708>"
      ]
     },
     "execution_count": 22,
     "metadata": {},
     "output_type": "execute_result"
    },
    {
     "data": {
      "image/png": "[encoded data removed]",
      "text/plain": [
       "<Figure size 1008x432 with 1 Axes>"
      ]
     },
     "metadata": {
      "needs_background": "light"
     },
     "output_type": "display_data"
    }
   ],
   "source": [
    "plt.figure(figsize = (14, 6))\n",
    "sns.kdeplot(data = m, shade = True)"
   ]
  },
  {
   "cell_type": "markdown",
   "metadata": {},
   "source": [
    "###  Find the Median of the each Column"
   ]
  },
  {
   "cell_type": "code",
   "execution_count": 23,
   "metadata": {},
   "outputs": [
    {
     "data": {
      "text/plain": [
       "extent    6.12\n",
       "area      4.29\n",
       "dtype: float64"
      ]
     },
     "execution_count": 23,
     "metadata": {},
     "output_type": "execute_result"
    }
   ],
   "source": [
    "df[['extent', 'area']].median()"
   ]
  },
  {
   "cell_type": "markdown",
   "metadata": {},
   "source": [
    "###  Storing in it a variable"
   ]
  },
  {
   "cell_type": "code",
   "execution_count": 24,
   "metadata": {},
   "outputs": [],
   "source": [
    "d=df[['extent', 'area']].median()"
   ]
  },
  {
   "cell_type": "markdown",
   "metadata": {},
   "source": [
    "### Plotting of median "
   ]
  },
  {
   "cell_type": "code",
   "execution_count": 25,
   "metadata": {},
   "outputs": [
    {
     "data": {
      "text/plain": [
       "<matplotlib.axes._subplots.AxesSubplot at 0x2149480b788>"
      ]
     },
     "execution_count": 25,
     "metadata": {},
     "output_type": "execute_result"
    },
    {
     "data": {
      "image/png": "[encoded data removed]",
      "text/plain": [
       "<Figure size 1008x432 with 1 Axes>"
      ]
     },
     "metadata": {
      "needs_background": "light"
     },
     "output_type": "display_data"
    }
   ],
   "source": [
    "plt.figure(figsize = (14, 6))\n",
    "sns.kdeplot(data = d, shade = True)"
   ]
  },
  {
   "cell_type": "markdown",
   "metadata": {},
   "source": [
    "###  Check the Skewness and get their Range which is under (-3 to +3)"
   ]
  },
  {
   "cell_type": "code",
   "execution_count": 26,
   "metadata": {},
   "outputs": [
    {
     "data": {
      "text/plain": [
       "year      0.000000\n",
       "month     0.000000\n",
       "extent   -0.304463\n",
       "area     -0.134922\n",
       "rank     -0.000227\n",
       "dtype: float64"
      ]
     },
     "execution_count": 26,
     "metadata": {},
     "output_type": "execute_result"
    }
   ],
   "source": [
    "df.skew(axis = 0, skipna = True)"
   ]
  },
  {
   "cell_type": "markdown",
   "metadata": {},
   "source": [
    "### Storing in it a variable for both of Columns:- sk1 & sk2¶"
   ]
  },
  {
   "cell_type": "code",
   "execution_count": 27,
   "metadata": {},
   "outputs": [],
   "source": [
    "sk1 = df['area'].skew()\n",
    "sk2 = df['rank'].skew()"
   ]
  },
  {
   "cell_type": "markdown",
   "metadata": {},
   "source": [
    "###  Converted datatype into float of sk1 & sk2"
   ]
  },
  {
   "cell_type": "code",
   "execution_count": 28,
   "metadata": {},
   "outputs": [
    {
     "data": {
      "text/plain": [
       "-0.1349223472545132"
      ]
     },
     "execution_count": 28,
     "metadata": {},
     "output_type": "execute_result"
    }
   ],
   "source": [
    "float(sk1)\n",
    "sk1"
   ]
  },
  {
   "cell_type": "code",
   "execution_count": 29,
   "metadata": {},
   "outputs": [
    {
     "data": {
      "text/plain": [
       "-0.00022708914090369798"
      ]
     },
     "execution_count": 29,
     "metadata": {},
     "output_type": "execute_result"
    }
   ],
   "source": [
    "float(sk2)\n",
    "sk2"
   ]
  },
  {
   "cell_type": "markdown",
   "metadata": {},
   "source": [
    "### Converted variables in Numpy array"
   ]
  },
  {
   "cell_type": "code",
   "execution_count": 30,
   "metadata": {},
   "outputs": [
    {
     "data": {
      "text/plain": [
       "array([-0.13492235, -0.00022709])"
      ]
     },
     "execution_count": 30,
     "metadata": {},
     "output_type": "execute_result"
    }
   ],
   "source": [
    "np1 = np.array([sk1,sk2])\n",
    "np1"
   ]
  },
  {
   "cell_type": "markdown",
   "metadata": {},
   "source": [
    "### Plotting of Skewness "
   ]
  },
  {
   "cell_type": "code",
   "execution_count": 31,
   "metadata": {},
   "outputs": [
    {
     "data": {
      "text/plain": [
       "<matplotlib.axes._subplots.AxesSubplot at 0x21494c8b9c8>"
      ]
     },
     "execution_count": 31,
     "metadata": {},
     "output_type": "execute_result"
    },
    {
     "data": {
      "image/png": "[encoded data removed]",
      "text/plain": [
       "<Figure size 1008x432 with 1 Axes>"
      ]
     },
     "metadata": {
      "needs_background": "light"
     },
     "output_type": "display_data"
    }
   ],
   "source": [
    "plt.figure(figsize = (14, 6))\n",
    "sns.kdeplot(data = np1, shade = True)"
   ]
  },
  {
   "cell_type": "code",
   "execution_count": null,
   "metadata": {},
   "outputs": [],
   "source": []
  },
  {
   "cell_type": "markdown",
   "metadata": {},
   "source": [
    "### Check the Kurtosis and get their Range which is under (-10 to +10) "
   ]
  },
  {
   "cell_type": "code",
   "execution_count": 32,
   "metadata": {},
   "outputs": [
    {
     "data": {
      "text/plain": [
       "year     -1.200000\n",
       "month     0.000000\n",
       "extent   -1.105513\n",
       "area     -0.499791\n",
       "rank     -1.199907\n",
       "dtype: float64"
      ]
     },
     "execution_count": 32,
     "metadata": {},
     "output_type": "execute_result"
    }
   ],
   "source": [
    "df.kurt(axis = 0, skipna = True)"
   ]
  },
  {
   "cell_type": "markdown",
   "metadata": {},
   "source": [
    "###  Storing in it a variable for both of Columns:- sk3 & sk4"
   ]
  },
  {
   "cell_type": "code",
   "execution_count": 33,
   "metadata": {},
   "outputs": [],
   "source": [
    "sk3 = df['area'].kurt()\n",
    "sk4 = df['rank'].kurt()"
   ]
  },
  {
   "cell_type": "markdown",
   "metadata": {},
   "source": [
    "###  Converted datatype into float of sk3 & sk4"
   ]
  },
  {
   "cell_type": "code",
   "execution_count": 34,
   "metadata": {},
   "outputs": [
    {
     "data": {
      "text/plain": [
       "-0.1349223472545132"
      ]
     },
     "execution_count": 34,
     "metadata": {},
     "output_type": "execute_result"
    }
   ],
   "source": [
    "float(sk3)\n",
    "sk1"
   ]
  },
  {
   "cell_type": "code",
   "execution_count": 35,
   "metadata": {},
   "outputs": [
    {
     "data": {
      "text/plain": [
       "-1.1999069248753047"
      ]
     },
     "execution_count": 35,
     "metadata": {},
     "output_type": "execute_result"
    }
   ],
   "source": [
    "float(sk4)\n",
    "sk4"
   ]
  },
  {
   "cell_type": "markdown",
   "metadata": {},
   "source": [
    "###  Converted variables in Numpy array"
   ]
  },
  {
   "cell_type": "code",
   "execution_count": 36,
   "metadata": {},
   "outputs": [
    {
     "data": {
      "text/plain": [
       "array([-0.49979141, -1.19990692])"
      ]
     },
     "execution_count": 36,
     "metadata": {},
     "output_type": "execute_result"
    }
   ],
   "source": [
    "np1 = np.array([sk3, sk4])\n",
    "np1"
   ]
  },
  {
   "cell_type": "markdown",
   "metadata": {},
   "source": [
    "### Plotting of Kurtosis "
   ]
  },
  {
   "cell_type": "code",
   "execution_count": 37,
   "metadata": {},
   "outputs": [
    {
     "data": {
      "text/plain": [
       "<matplotlib.axes._subplots.AxesSubplot at 0x214947d2308>"
      ]
     },
     "execution_count": 37,
     "metadata": {},
     "output_type": "execute_result"
    },
    {
     "data": {
      "image/png": "[encoded data removed]",
      "text/plain": [
       "<Figure size 1008x432 with 1 Axes>"
      ]
     },
     "metadata": {
      "needs_background": "light"
     },
     "output_type": "display_data"
    }
   ],
   "source": [
    "plt.figure(figsize = (14, 6))\n",
    "sns.kdeplot(data = np1,shade = True)"
   ]
  },
  {
   "cell_type": "markdown",
   "metadata": {},
   "source": [
    "###  Find the difference between Max & Min"
   ]
  },
  {
   "cell_type": "code",
   "execution_count": 38,
   "metadata": {},
   "outputs": [
    {
     "data": {
      "text/plain": [
       "42"
      ]
     },
     "execution_count": 38,
     "metadata": {},
     "output_type": "execute_result"
    }
   ],
   "source": [
    "max(df['year']) - min(df['year'])"
   ]
  },
  {
   "cell_type": "code",
   "execution_count": 39,
   "metadata": {},
   "outputs": [
    {
     "data": {
      "text/plain": [
       "0"
      ]
     },
     "execution_count": 39,
     "metadata": {},
     "output_type": "execute_result"
    }
   ],
   "source": [
    "max(df['month']) - min(df['month'])"
   ]
  },
  {
   "cell_type": "code",
   "execution_count": 40,
   "metadata": {},
   "outputs": [
    {
     "data": {
      "text/plain": [
       "4.1"
      ]
     },
     "execution_count": 40,
     "metadata": {},
     "output_type": "execute_result"
    }
   ],
   "source": [
    "max(df['extent']) - min(df['extent'])"
   ]
  },
  {
   "cell_type": "code",
   "execution_count": 41,
   "metadata": {},
   "outputs": [
    {
     "data": {
      "text/plain": [
       "3.2299999999999995"
      ]
     },
     "execution_count": 41,
     "metadata": {},
     "output_type": "execute_result"
    }
   ],
   "source": [
    "max(df['area']) - min(df['area'])"
   ]
  },
  {
   "cell_type": "code",
   "execution_count": 42,
   "metadata": {},
   "outputs": [
    {
     "data": {
      "text/plain": [
       "42.0"
      ]
     },
     "execution_count": 42,
     "metadata": {},
     "output_type": "execute_result"
    }
   ],
   "source": [
    "max(df['rank']) - min(df['rank'])"
   ]
  },
  {
   "cell_type": "markdown",
   "metadata": {},
   "source": [
    "###  Made Series for \"extent\" to get Covariance & Correlation"
   ]
  },
  {
   "cell_type": "code",
   "execution_count": 43,
   "metadata": {},
   "outputs": [
    {
     "data": {
      "text/plain": [
       "0     7.05\n",
       "1     7.67\n",
       "2     7.14\n",
       "3     7.30\n",
       "4     7.39\n",
       "5     6.81\n",
       "6     6.70\n",
       "7     7.41\n",
       "8     7.28\n",
       "9     7.37\n",
       "10    7.01\n",
       "11    6.14\n",
       "12    6.47\n",
       "13    7.47\n",
       "14    6.40\n",
       "15    7.14\n",
       "16    6.08\n",
       "17    7.58\n",
       "18    6.69\n",
       "19    6.54\n",
       "20    6.12\n",
       "21    6.25\n",
       "22    6.73\n",
       "23    5.83\n",
       "24    6.12\n",
       "25    5.98\n",
       "26    5.50\n",
       "27    5.86\n",
       "28    4.27\n",
       "29    4.69\n",
       "30    5.26\n",
       "31    4.87\n",
       "32    4.56\n",
       "33    3.57\n",
       "34    5.21\n",
       "35    5.22\n",
       "36    4.62\n",
       "37    4.53\n",
       "38    4.82\n",
       "39    4.79\n",
       "40    4.36\n",
       "41    4.00\n",
       "42    4.92\n",
       "Name: extent, dtype: float64"
      ]
     },
     "execution_count": 43,
     "metadata": {},
     "output_type": "execute_result"
    }
   ],
   "source": [
    "ex = pd.Series(df['extent'])\n",
    "ex"
   ]
  },
  {
   "cell_type": "markdown",
   "metadata": {},
   "source": [
    "###  Made Series for \"area\" to get Covariance & Correlation"
   ]
  },
  {
   "cell_type": "code",
   "execution_count": 44,
   "metadata": {},
   "outputs": [
    {
     "data": {
      "text/plain": [
       "0     4.58\n",
       "1     4.87\n",
       "2     4.44\n",
       "3     4.43\n",
       "4     4.70\n",
       "5     4.11\n",
       "6     4.23\n",
       "7     4.72\n",
       "8     5.64\n",
       "9     5.36\n",
       "10    4.86\n",
       "11    4.55\n",
       "12    4.51\n",
       "13    5.43\n",
       "14    4.58\n",
       "15    5.13\n",
       "16    4.43\n",
       "17    5.62\n",
       "18    4.89\n",
       "19    4.30\n",
       "20    4.29\n",
       "21    4.35\n",
       "22    4.59\n",
       "23    4.03\n",
       "24    4.05\n",
       "25    4.39\n",
       "26    4.07\n",
       "27    4.01\n",
       "28    2.82\n",
       "29    3.26\n",
       "30    3.76\n",
       "31    3.34\n",
       "32    3.21\n",
       "33    2.41\n",
       "34    3.78\n",
       "35    3.74\n",
       "36    3.42\n",
       "37    2.91\n",
       "38    3.35\n",
       "39    3.35\n",
       "40    3.17\n",
       "41    2.83\n",
       "42    3.43\n",
       "Name: area, dtype: float64"
      ]
     },
     "execution_count": 44,
     "metadata": {},
     "output_type": "execute_result"
    }
   ],
   "source": [
    "ar = pd.Series(df['area'])\n",
    "ar"
   ]
  },
  {
   "cell_type": "markdown",
   "metadata": {},
   "source": [
    "###  Find Correlation Between extent and area"
   ]
  },
  {
   "cell_type": "code",
   "execution_count": 45,
   "metadata": {},
   "outputs": [
    {
     "data": {
      "text/plain": [
       "0.9403055701244182"
      ]
     },
     "execution_count": 45,
     "metadata": {},
     "output_type": "execute_result"
    }
   ],
   "source": [
    "ex.corr(ar)"
   ]
  },
  {
   "cell_type": "markdown",
   "metadata": {},
   "source": [
    "###  Find Between Covariance extent and area"
   ]
  },
  {
   "cell_type": "code",
   "execution_count": 46,
   "metadata": {},
   "outputs": [
    {
     "data": {
      "text/plain": [
       "0.8484375968992247"
      ]
     },
     "execution_count": 46,
     "metadata": {},
     "output_type": "execute_result"
    }
   ],
   "source": [
    "ex.cov(ar)"
   ]
  },
  {
   "cell_type": "markdown",
   "metadata": {},
   "source": [
    "###  Storing both of them in variables:-x & y"
   ]
  },
  {
   "cell_type": "code",
   "execution_count": 47,
   "metadata": {},
   "outputs": [],
   "source": [
    "x = ex.corr(ar)\n",
    "y = ex.cov(ar)"
   ]
  },
  {
   "cell_type": "code",
   "execution_count": 48,
   "metadata": {},
   "outputs": [
    {
     "data": {
      "text/plain": [
       "(0.9403055701244182, 0.8484375968992247)"
      ]
     },
     "execution_count": 48,
     "metadata": {},
     "output_type": "execute_result"
    }
   ],
   "source": [
    "x,y"
   ]
  },
  {
   "cell_type": "markdown",
   "metadata": {},
   "source": [
    "###  Converted datatype into float :- x & y"
   ]
  },
  {
   "cell_type": "code",
   "execution_count": 49,
   "metadata": {},
   "outputs": [
    {
     "data": {
      "text/plain": [
       "0.9403055701244182"
      ]
     },
     "execution_count": 49,
     "metadata": {},
     "output_type": "execute_result"
    }
   ],
   "source": [
    "float(x)"
   ]
  },
  {
   "cell_type": "code",
   "execution_count": 50,
   "metadata": {},
   "outputs": [
    {
     "data": {
      "text/plain": [
       "0.8484375968992247"
      ]
     },
     "execution_count": 50,
     "metadata": {},
     "output_type": "execute_result"
    }
   ],
   "source": [
    "float(y)"
   ]
  },
  {
   "cell_type": "markdown",
   "metadata": {},
   "source": [
    "###  Converted variables in Numpy array"
   ]
  },
  {
   "cell_type": "code",
   "execution_count": 51,
   "metadata": {},
   "outputs": [
    {
     "data": {
      "text/plain": [
       "array([0.94030557, 0.8484376 ])"
      ]
     },
     "execution_count": 51,
     "metadata": {},
     "output_type": "execute_result"
    }
   ],
   "source": [
    "np6 = np.array([x,y])\n",
    "np6"
   ]
  },
  {
   "cell_type": "markdown",
   "metadata": {},
   "source": [
    "### Plotting of Correlation and Covariance "
   ]
  },
  {
   "cell_type": "code",
   "execution_count": 52,
   "metadata": {},
   "outputs": [
    {
     "data": {
      "text/plain": [
       "<matplotlib.axes._subplots.AxesSubplot at 0x214945f3cc8>"
      ]
     },
     "execution_count": 52,
     "metadata": {},
     "output_type": "execute_result"
    },
    {
     "data": {
      "image/png": "[encoded data removed]",
      "text/plain": [
       "<Figure size 1008x432 with 1 Axes>"
      ]
     },
     "metadata": {
      "needs_background": "light"
     },
     "output_type": "display_data"
    }
   ],
   "source": [
    "plt.figure(figsize = (14,6))\n",
    "sns.kdeplot(data = np6,shade = True) "
   ]
  }
 ],
 "metadata": {
  "kernelspec": {
   "display_name": "Python 3",
   "language": "python",
   "name": "python3"
  },
  "language_info": {
   "codemirror_mode": {
    "name": "ipython",
    "version": 3
   },
   "file_extension": ".py",
   "mimetype": "text/x-python",
   "name": "python",
   "nbconvert_exporter": "python",
   "pygments_lexer": "ipython3",
   "version": "3.7.4"
  }
 },
 "nbformat": 4,
 "nbformat_minor": 2
}
